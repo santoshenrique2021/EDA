{
 "cells": [
  {
   "cell_type": "markdown",
   "id": "a3dc4e0e-5190-4fef-8ef3-f2081f505edb",
   "metadata": {},
   "source": [
    "# Análise Exploratória dos Dados (EDA) \n",
    "\n",
    "* **EDA** - Exploratory Data Analysis.\n",
    "\n",
    "## Exemplo\n",
    "\n",
    "* Uma imobiliária deseja construir um modelo que estime o preço do imóvel (**ALVO**/ **TARGET**) com base em variáveis relacionadas a residência (**COVARIÁVEIS**/ **FEATURES**).\n",
    "  \n",
    "## Objetivo\n",
    "\n",
    "* Identificar o tipo e a distribuição das variáveis envolvidas, possibilidade de criação de novas variáveis com base nas existentes, resumir informações, detectar padrões com os dados, selecionar variáveis para o desenvolvimento de um modelo, gerar *insights* para a tomada de decisão (definir estratégias de negócio) e mensurar a distribuição conjunta (bivariada) - quantificar a relação entre o ALVO e as COVARIÁVEIS."
   ]
  },
  {
   "cell_type": "markdown",
   "id": "74aa972d-7d0c-4aef-baa4-ba801699ff05",
   "metadata": {},
   "source": [
    "**Imports requeridos para a execução do estudo**"
   ]
  },
  {
   "cell_type": "code",
   "execution_count": null,
   "id": "b0fd80cd-d7ae-484a-81a0-64008d3d5382",
   "metadata": {},
   "outputs": [],
   "source": [
    "#Bibliotecas básicas\n",
    "import pandas as pd     #Manipulação dos dados\n",
    "import numpy as np      #Operações multidimensionais e matemáticas\n",
    "import matplotlib.pyplot as plt    #Gráficos\n",
    "import matplotlib.ticker as ticker #Remover a notação científica do gráfico\n",
    "import seaborn as sns              #Gráficos\n",
    "##Eliminar os warnings\n",
    "import warnings\n",
    "warnings.filterwarnings(\"ignore\")\n",
    "##Ver todas as colunas do data frame\n",
    "pd.set_option('display.max_columns', None)\n",
    "#Definir o formato de exibição tipo float para evitar notação científica\n",
    "pd.options.display.float_format = '{:.2f}'.format"
   ]
  },
  {
   "cell_type": "markdown",
   "id": "d1e906c8-1ffe-49d3-a42e-f3e6337d9cdf",
   "metadata": {},
   "source": [
    "**Versão do Python instalada**"
   ]
  },
  {
   "cell_type": "code",
   "execution_count": null,
   "id": "4e00a4a1-2245-467f-b937-9f7f3b4512b5",
   "metadata": {},
   "outputs": [],
   "source": [
    "#Identificar a versão do Python\n",
    "import sys\n",
    "print(f\"Versão do Python: {sys.version}\") #Versão do Python: 3.11.8"
   ]
  },
  {
   "cell_type": "markdown",
   "id": "db5edc24-0483-4cc6-bb73-d21eeaafe7d2",
   "metadata": {},
   "source": [
    "## 1 - Visão geral os dados"
   ]
  },
  {
   "cell_type": "code",
   "execution_count": null,
   "id": "b256eab0-140e-4504-b900-b58a522a5448",
   "metadata": {},
   "outputs": [],
   "source": [
    "#Importar a base de dados\n",
    "df =  pd.read_csv('base_dados.csv', sep = ';')\n",
    "#Visualizar\n",
    "df.head(3) #Visualizar as três primeiras linhas da tabela"
   ]
  },
  {
   "cell_type": "markdown",
   "id": "cda5b5fa-1c57-4810-8eef-c3610ebcb16f",
   "metadata": {},
   "source": [
    "* NaN - **not as number** (é um valor nulo/ *missing*)."
   ]
  },
  {
   "cell_type": "code",
   "execution_count": null,
   "id": "9420ba02-7f9e-426a-8825-1f5c5a279465",
   "metadata": {},
   "outputs": [],
   "source": [
    "#Características básicas do data frame - Parte 1\n",
    "df.shape #545 observações e 14 variáveis "
   ]
  },
  {
   "cell_type": "code",
   "execution_count": null,
   "id": "67a367bb-5749-4e7a-b3db-be500c3d6b50",
   "metadata": {},
   "outputs": [],
   "source": [
    "#Características básicas do data frame - Parte 2\n",
    "df.info()#Nome da variável, contagem de observações não nulas e o tipo das variáveis"
   ]
  },
  {
   "cell_type": "markdown",
   "id": "9e35cba0-e4ab-43c3-be93-af48fef36c42",
   "metadata": {},
   "source": [
    "# 2 - Desenvolvimento da EDA"
   ]
  },
  {
   "cell_type": "markdown",
   "id": "f2e1aa43-0748-476b-8bd8-2d3ca9720485",
   "metadata": {},
   "source": [
    "**Percentual de valores nulos para cada variável da base de dados**"
   ]
  },
  {
   "cell_type": "code",
   "execution_count": null,
   "id": "6ebc07ea-0a6b-46a5-9072-66e8008367a1",
   "metadata": {},
   "outputs": [],
   "source": [
    "#Calcular o percentual de valores nulos (vetor)\n",
    "percent_missing = df.isnull().mean() * 100\n",
    "####################\n",
    "#Construir uma tabela\n",
    "df_perc_missing = percent_missing.reset_index()  #Reinicializa o índice em uma coluna\n",
    "df_perc_missing = df_perc_missing.rename(columns={'index': 'VARIAVEL', 0: 'PERCENTUAL_MISSING'}) #Renomear o nome das colunas\n",
    "#Visualizar\n",
    "df_perc_missing"
   ]
  },
  {
   "cell_type": "markdown",
   "id": "c2b1613e-b22e-4ff3-a042-a95019a6a862",
   "metadata": {},
   "source": [
    "* **Nota**: Se o percentual de *missing* de uma variável for muito elevado (superior a 70% - por exemplo), pode ser mais interessante removê-la da análise.\n",
    "* **Nota**: Como lidar (e qual o impacto) com valores ausentes de uma variável na modelagem?"
   ]
  },
  {
   "cell_type": "markdown",
   "id": "1a26e54c-b6c0-4c49-bc1a-b0f1fb3c6b1e",
   "metadata": {},
   "source": [
    "## 2.1 - Análise descritiva da variável PRECO"
   ]
  },
  {
   "cell_type": "code",
   "execution_count": null,
   "id": "9b757cdf-508e-492e-9d46-98b3dd071d12",
   "metadata": {},
   "outputs": [],
   "source": [
    "#Sumário estatístico\n",
    "df['PRECO'].describe(percentiles=[.1, .2, .3, .4, .5, .6, .7, .8, .9])"
   ]
  },
  {
   "cell_type": "code",
   "execution_count": null,
   "id": "48676275-a66c-4853-893a-5df7a664ba1e",
   "metadata": {},
   "outputs": [],
   "source": [
    "#Coeficiente de variação - variabilidade em torno da média\n",
    "round(100 * df['PRECO'].std()/df['PRECO'].mean(),2) #39.24 #Variabilidade em nível mediano"
   ]
  },
  {
   "cell_type": "markdown",
   "id": "03526d0f-995b-48e9-9133-5a05d75792e0",
   "metadata": {},
   "source": [
    "### 2.2.1 - Representação gráfica"
   ]
  },
  {
   "cell_type": "code",
   "execution_count": null,
   "id": "2d5231d9-3f4f-45be-b16c-da3b9b3505ea",
   "metadata": {},
   "outputs": [],
   "source": [
    "#Boxplot\n",
    "boxplot = df.boxplot(column='PRECO', grid=False,  patch_artist=True, boxprops=dict(facecolor='lightblue'), medianprops=dict(color='red'))\n",
    "boxplot.set_title('Distribuição dos preços dos imóveis', fontweight='bold',  loc='left')\n",
    "\n",
    "#Eixo Y\n",
    "plt.ylabel('Valores em US$')\n",
    "\n",
    "#Eixo X\n",
    "plt.xticks([])\n",
    "plt.xlabel('Preço do Imóvel')\n",
    "\n",
    "\n",
    "#Personalizar o eixo y para evitar a notação científica\n",
    "boxplot.yaxis.set_major_formatter(ticker.FuncFormatter(lambda x, pos: '{:.0f}'.format(x)))"
   ]
  },
  {
   "cell_type": "code",
   "execution_count": null,
   "id": "793c6cff-bea9-456d-bb31-a7b6fa67cccd",
   "metadata": {},
   "outputs": [],
   "source": [
    "#Identificar as observações que são outliers\n",
    "q1 = np.percentile(df.PRECO, 25) #Primeiro Quartil\n",
    "q3 = np.percentile(df.PRECO, 75) #Terceiro Quartil\n",
    "\n",
    "#Calcular a amplitude interquartil (IQR)\n",
    "iqr = q3 - q1\n",
    "\n",
    "#Definir os limites para identificação de outliers\n",
    "lower_bound = q1 - 1.5 * iqr\n",
    "upper_bound = q3 + 1.5 * iqr\n",
    "\n",
    "#Identificar outliers\n",
    "outliers = [x for x in df.PRECO if x < lower_bound or x > upper_bound]\n",
    "\n",
    "#Visualização\n",
    "print(\"Outliers:\", outliers)"
   ]
  },
  {
   "cell_type": "code",
   "execution_count": null,
   "id": "7b6eb855-9b47-46e2-a825-467880a5cc74",
   "metadata": {},
   "outputs": [],
   "source": [
    "#Total de observações que são outliers\n",
    "len(outliers) #15"
   ]
  },
  {
   "cell_type": "code",
   "execution_count": null,
   "id": "c9693139-6196-41cd-af6f-1451d64a2841",
   "metadata": {},
   "outputs": [],
   "source": [
    "#A partir de que valor a observação é um outlier\n",
    "upper_bound = q3 + 1.5 * iqr\n",
    "upper_bound #9.205.000"
   ]
  },
  {
   "cell_type": "markdown",
   "id": "63279690-e8b8-4c4d-a682-61dc9fbf8e10",
   "metadata": {},
   "source": [
    "**Nota**: Como fica a previsão do PRECO para as observações que são outliers?"
   ]
  },
  {
   "cell_type": "markdown",
   "id": "7d505e64-0721-4b08-91cc-eee4b23a4a58",
   "metadata": {},
   "source": [
    "## 2.3 - Análise das variáveis explicativas quantitativas "
   ]
  },
  {
   "cell_type": "code",
   "execution_count": null,
   "id": "a3b272e4-4ecc-4d41-9a0e-7ece18d54556",
   "metadata": {},
   "outputs": [],
   "source": [
    "#Extraíndo as variáveis que são do tipo FLOAT e INT\n",
    "tipos_desejados = ['int64', 'float64']\n",
    "colunas_desejadas = [coluna for coluna in df.select_dtypes(include=tipos_desejados) if coluna != 'PRECO']"
   ]
  },
  {
   "cell_type": "code",
   "execution_count": null,
   "id": "30c4679f-c214-4729-8565-1d2d9b31f9a2",
   "metadata": {},
   "outputs": [],
   "source": [
    "#EDA das variáveis numéricas\n",
    "for coluna in colunas_desejadas:\n",
    "    print(f\"--- {coluna} ---\")\n",
    "    print(f\"Média: {df[coluna].mean()}\")\n",
    "    print(f\"Mediana: {df[coluna].median()}\")\n",
    "    print(f\"Máximo: {df[coluna].max()}\")\n",
    "    print(f\"Mínimo: {df[coluna].min()}\")\n",
    "    print(f\"Desvio Padrão: {df[coluna].std()}\")\n",
    "    print(f\"Coeficiente de variação: {df[coluna].std()/df[coluna].mean() * 100}\")\n",
    "    print()"
   ]
  },
  {
   "cell_type": "markdown",
   "id": "75f84261-d80c-4839-9d5e-fde30dff8d93",
   "metadata": {},
   "source": [
    "**Nota**: Saber **identificar a dispersão e o seu range de valores (variabilidade e cardinalidade)**. \n",
    "* Exemplo: A variável *VAGAS_ESTACIONAMENTO*, observa-se que muitas casas tem poucas ou nenhuma vaga de estacionamento para carros e poucas residências tem muitas - **alta dispersão**."
   ]
  },
  {
   "cell_type": "markdown",
   "id": "e50e9ce8-687a-4909-a500-9464ff972544",
   "metadata": {},
   "source": [
    "## 2.4 - Análise descritiva das variáveis categóricas "
   ]
  },
  {
   "cell_type": "code",
   "execution_count": null,
   "id": "08a5caa5-bc65-49eb-a255-e87cac272001",
   "metadata": {},
   "outputs": [],
   "source": [
    "#As classes de cada variável categórica e sua frequência relativa\n",
    "for coluna in df.select_dtypes(include = \"object\"):\n",
    "    print (f\"{coluna}:\\n{df[coluna].value_counts(True)}\")"
   ]
  },
  {
   "cell_type": "markdown",
   "id": "bf19f346-35a3-4670-8c38-91b38064df07",
   "metadata": {},
   "source": [
    "**Nota**: Saber identificar a **frequência relativa das classes da variável categórica**, no sentido de avaliar **pontos de concentração**.\n",
    "* Exemplo: A variável FLAG_AGUA_MORNA concentra que 95% das casas não tem água morna."
   ]
  },
  {
   "cell_type": "markdown",
   "id": "ddd6b0d6-f7b0-42d3-b92f-0ea6f3a82c44",
   "metadata": {},
   "source": [
    "**Nota**: As seções 2.3 e 2.4 representaram análises univariadas. "
   ]
  },
  {
   "cell_type": "markdown",
   "id": "9de3055b-8b82-4787-8ef3-e6d7606e5cd4",
   "metadata": {},
   "source": [
    "**Ideia**: Com as estatísticas obtidas das variáveis independentes seria possível criar uma ***PERSONA*, ou seja, o perfil médio das casas**. Poderia também pensar numa análise de agrupamento ou aplicar regras de negócio no contexto de segmentação."
   ]
  },
  {
   "cell_type": "markdown",
   "id": "e16bf9ee-c357-466f-9ea3-a30ff07ef19b",
   "metadata": {},
   "source": [
    "## 2.5 - Análise bivariada (distribuição conjunta)\n",
    "\n",
    "* Quantificar o efeito das covariáveis na distribuição da variável resposta. "
   ]
  },
  {
   "cell_type": "markdown",
   "id": "990dc594-ce05-416c-8c23-1ab1ef8d9a65",
   "metadata": {},
   "source": [
    "**ALVO vs variáveis categóricas**"
   ]
  },
  {
   "cell_type": "code",
   "execution_count": null,
   "id": "a89703a2-2949-4efb-92e9-4767c704d912",
   "metadata": {},
   "outputs": [],
   "source": [
    "#Lista de colunas categóricas\n",
    "colunas_categoricas = df.select_dtypes(include='object').columns"
   ]
  },
  {
   "cell_type": "code",
   "execution_count": null,
   "id": "007b7a88-e09a-4797-8149-5c9abdc25ed3",
   "metadata": {},
   "outputs": [],
   "source": [
    "#Iterando sobre as colunas categóricas\n",
    "for coluna in colunas_categoricas:\n",
    "    print(f\"Análise bivariada {coluna}:\")\n",
    "    summary = df.groupby([coluna])['PRECO'].agg(['mean', 'median', 'std', lambda x: x.quantile(0.25), lambda x: x.quantile(0.75)])\n",
    "    summary.columns = ['Média', 'Mediana', 'Desvio Padrão', 'Percentil 25', 'Percentil 75']\n",
    "    print(summary)\n",
    "    print('\\n')"
   ]
  },
  {
   "cell_type": "markdown",
   "id": "a9172f78-61ac-4132-9e56-a3a07ee3468e",
   "metadata": {},
   "source": [
    "**Nota**: A distribuição do *PRECO* é muito sensível com a variável *FLAG_CENTRO*."
   ]
  },
  {
   "cell_type": "markdown",
   "id": "7f9d9617-24af-4164-85a0-77fb16020fa1",
   "metadata": {},
   "source": [
    "**ALVO vs variáveis numéricas**"
   ]
  },
  {
   "cell_type": "markdown",
   "id": "58858d07-41cf-4378-aa63-0a81467a9ba1",
   "metadata": {},
   "source": [
    "1. **Correlação**\n",
    "    * Correlação das variáveis explicativas com o ALVO e entre elas."
   ]
  },
  {
   "cell_type": "markdown",
   "id": "0bca5dee-4c9d-46ee-95ab-3ba6974359a4",
   "metadata": {},
   "source": [
    "**Mapa de calor**"
   ]
  },
  {
   "cell_type": "code",
   "execution_count": null,
   "id": "56e8261a-c692-4a55-851a-4bdf10208316",
   "metadata": {},
   "outputs": [],
   "source": [
    "#Heatmap\n",
    "#Data frame com as colunas numéricas\n",
    "df_numerical = df.select_dtypes(include=['int', 'float'])\n",
    "#Correlação\n",
    "plt.figure(figsize = (7,7))\n",
    "sns.heatmap(df_numerical.corr(\"spearman\"), annot = True, cmap = \"YlGnBu\")\n",
    "plt.title(\"Mapa de Correlação das Variáveis Numéricas\\n\", fontsize = 15)\n",
    "plt.show()"
   ]
  },
  {
   "cell_type": "markdown",
   "id": "56360f0f-52b6-4841-954b-220c8c7e19de",
   "metadata": {},
   "source": [
    "**Tabela de correlação**"
   ]
  },
  {
   "cell_type": "code",
   "execution_count": null,
   "id": "d61dbed0-1630-4397-9245-d465e0b943d4",
   "metadata": {},
   "outputs": [],
   "source": [
    "#Tabela de correlação\n",
    "tabela_correlacao_spearman = df_numerical.corr(method='spearman') #Não preciso assumir uma relação linear entre as variáveis e não tem hipótese sobre a distribuição normal\n",
    "tabela_correlacao_spearman #A variável AREA tem a maior correlação com preço."
   ]
  },
  {
   "cell_type": "markdown",
   "id": "60d8293f-3278-4eb4-9250-f92268b98ac0",
   "metadata": {},
   "source": [
    "2. **Scatter Plot** (Gráfico de Dispersão)"
   ]
  },
  {
   "cell_type": "code",
   "execution_count": null,
   "id": "8e6599e4-f00a-4bb6-9362-9772daafcf7f",
   "metadata": {},
   "outputs": [],
   "source": [
    "#Scatter plot\n",
    "plt.scatter(df.AREA, df.PRECO)\n",
    "\n",
    "#Adicionar rótulos aos eixos\n",
    "plt.xlabel('Área do imóvel')\n",
    "plt.ylabel('Preço do imóvel')\n",
    "\n",
    "#Adicionar título ao gráfico\n",
    "plt.suptitle('Reção entre Área vs Preço', fontweight='bold', x=0.1)\n",
    "\n",
    "#Remover linhas de grade\n",
    "plt.grid(False)\n",
    "\n",
    "#Remover notação científica do eixo y\n",
    "plt.ticklabel_format(style='plain', axis='y')\n",
    "\n",
    "#Exibir o gráfico\n",
    "plt.show()"
   ]
  },
  {
   "cell_type": "markdown",
   "id": "ca1b9828-cda7-45c1-a148-b787da1b2580",
   "metadata": {},
   "source": [
    "#### Análise adicional (feature engineering)\n",
    "\n",
    "* Criar uma variável a partir de uma existente. Posteriormente, compará-la com o ALVO.\n",
    "* Vou criar a variável chamada **DECIL_AREA**."
   ]
  },
  {
   "cell_type": "code",
   "execution_count": null,
   "id": "a1f5701e-2ca7-4c0e-8e50-e3767795eb9c",
   "metadata": {},
   "outputs": [],
   "source": [
    "#Variável que vai calcular os decis da variável AREA\n",
    "decis_area = pd.qcut(df['AREA'], q=10)\n",
    "#Adicionar a variável DECIL_AREA\n",
    "df['DECIL_AREA'] = decis_area"
   ]
  },
  {
   "cell_type": "code",
   "execution_count": null,
   "id": "ccb62724-126f-4304-b7c5-57bb1d8c1a3d",
   "metadata": {},
   "outputs": [],
   "source": [
    "#Calcular o preço médio do imóvel para cada faixa de decil da área\n",
    "preco_medio_por_decil = df.groupby('DECIL_AREA')['PRECO'].mean()\n",
    "preco_medio_por_decil #Transformou uma variável quantitativa numa variável qualitativa"
   ]
  },
  {
   "cell_type": "code",
   "execution_count": null,
   "id": "64ced4df-a789-4a5f-a1a1-756b784f6353",
   "metadata": {},
   "outputs": [],
   "source": [
    "#Visualização final do data frame\n",
    "df.head(3) #Temos uma nova coluna"
   ]
  },
  {
   "cell_type": "code",
   "execution_count": null,
   "id": "54d93417-9297-4575-ae6a-51253be00ad7",
   "metadata": {},
   "outputs": [],
   "source": []
  }
 ],
 "metadata": {
  "kernelspec": {
   "display_name": "Python 3 (ipykernel)",
   "language": "python",
   "name": "python3"
  },
  "language_info": {
   "codemirror_mode": {
    "name": "ipython",
    "version": 3
   },
   "file_extension": ".py",
   "mimetype": "text/x-python",
   "name": "python",
   "nbconvert_exporter": "python",
   "pygments_lexer": "ipython3",
   "version": "3.11.8"
  }
 },
 "nbformat": 4,
 "nbformat_minor": 5
}
